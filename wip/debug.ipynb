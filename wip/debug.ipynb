{
 "cells": [
  {
   "cell_type": "code",
   "execution_count": 1,
   "metadata": {},
   "outputs": [
    {
     "name": "stdout",
     "output_type": "stream",
     "text": [
      "PowerPoint COM object initialized successfully.\n",
      "Failed to initialize PowerPoint COM object: 'POINTER(IUnknown)' object has no attribute 'Quit'\n"
     ]
    }
   ],
   "source": [
    "import comtypes.client\n",
    "\n",
    "try:\n",
    "    powerpoint = comtypes.client.CreateObject(\"PowerPoint.Application\")\n",
    "    print(\"PowerPoint COM object initialized successfully.\")\n",
    "    powerpoint.Quit()\n",
    "except Exception as e:\n",
    "    print(f\"Failed to initialize PowerPoint COM object: {e}\")\n"
   ]
  },
  {
   "cell_type": "code",
   "execution_count": 3,
   "metadata": {},
   "outputs": [
    {
     "name": "stdout",
     "output_type": "stream",
     "text": [
      "PowerPoint COM object initialized successfully.\n",
      "Available methods and attributes:\n",
      "['AddRef', 'QueryInterface', 'Release', '_AddRef', '_IUnknown__com_AddRef', '_IUnknown__com_QueryInterface', '_IUnknown__com_Release', '_QueryInterface', '_Release', '__annotations__', '__bool__', '__buffer__', '__class__', '__clsid', '__com_interface__', '__ctypes_from_outparam__', '__del__', '__delattr__', '__dict__', '__dir__', '__doc__', '__eq__', '__firstlineno__', '__format__', '__ge__', '__getattribute__', '__getstate__', '__gt__', '__hash__', '__init__', '__init_subclass__', '__le__', '__lt__', '__module__', '__ne__', '__new__', '__reduce__', '__reduce_ex__', '__repr__', '__setattr__', '__setstate__', '__sizeof__', '__static_attributes__', '__str__', '__subclasshook__', '__weakref__', '_b_base_', '_b_needsfree_', '_case_insensitive_', '_compointer_base__get_value', '_iid_', '_methods_', '_needs_com_addref_', '_objects', '_type_', 'from_param', 'value']\n",
      "Error initializing PowerPoint COM object: 'POINTER(IUnknown)' object has no attribute 'Quit'\n"
     ]
    }
   ],
   "source": [
    "import comtypes.client\n",
    "\n",
    "# Initialize PowerPoint application\n",
    "try:\n",
    "    powerpoint = comtypes.client.CreateObject(\"PowerPoint.Application\")\n",
    "    print(\"PowerPoint COM object initialized successfully.\")\n",
    "    \n",
    "    # Inspect the available methods and attributes\n",
    "    print(\"Available methods and attributes:\")\n",
    "    print(dir(powerpoint))\n",
    "\n",
    "    powerpoint.Quit()  # Don't forget to close PowerPoint after use\n",
    "except Exception as e:\n",
    "    print(f\"Error initializing PowerPoint COM object: {e}\")\n"
   ]
  },
  {
   "cell_type": "code",
   "execution_count": 5,
   "metadata": {},
   "outputs": [
    {
     "name": "stdout",
     "output_type": "stream",
     "text": [
      "Converting 'Ch 1.pptx' to PDF...\n",
      "Failed to convert 'Ch 1.pptx': (-2147352567, 'Exception occurred.', (0, 'Microsoft PowerPoint', 'Presentation.Close : Failed.', '', 0, -2147467259), None)\n",
      "Error closing presentation 'Ch 1.pptx': (-2147352567, 'Exception occurred.', (0, 'Microsoft PowerPoint', 'Presentation.Close : Failed.', '', 0, -2147467259), None)\n",
      "Error closing presentation 'Ch 1.pptx': (-2147352567, 'Exception occurred.', (0, 'Microsoft PowerPoint', 'Presentation.Close : Failed.', '', 0, -2147467259), None)\n",
      "Converting 'Ch 2.pptx' to PDF...\n",
      "'Ch 2.pptx' converted successfully.\n",
      "Error closing presentation 'Ch 2.pptx': (-2147352567, 'Exception occurred.', (0, 'Microsoft PowerPoint', 'Presentation.Close : Object does not exist.', '', 0, -2147188720), None)\n",
      "Converting 'Ch 3.pptx' to PDF...\n",
      "'Ch 3.pptx' converted successfully.\n",
      "Error closing presentation 'Ch 3.pptx': (-2147352567, 'Exception occurred.', (0, 'Microsoft PowerPoint', 'Presentation.Close : Object does not exist.', '', 0, -2147188720), None)\n",
      "Converting 'Ch 4.1.pptx' to PDF...\n",
      "'Ch 4.1.pptx' converted successfully.\n",
      "Error closing presentation 'Ch 4.1.pptx': (-2147352567, 'Exception occurred.', (0, 'Microsoft PowerPoint', 'Presentation.Close : Object does not exist.', '', 0, -2147188720), None)\n",
      "Converting 'Ch 4.2.pptx' to PDF...\n",
      "'Ch 4.2.pptx' converted successfully.\n",
      "Error closing presentation 'Ch 4.2.pptx': (-2147352567, 'Exception occurred.', (0, 'Microsoft PowerPoint', 'Presentation.Close : Object does not exist.', '', 0, -2147188720), None)\n",
      "Converting 'Ch 5.1.pptx' to PDF...\n",
      "'Ch 5.1.pptx' converted successfully.\n",
      "Error closing presentation 'Ch 5.1.pptx': (-2147352567, 'Exception occurred.', (0, 'Microsoft PowerPoint', 'Presentation.Close : Object does not exist.', '', 0, -2147188720), None)\n",
      "Converting 'Ch 5.2.pptx' to PDF...\n",
      "'Ch 5.2.pptx' converted successfully.\n",
      "Error closing presentation 'Ch 5.2.pptx': (-2147352567, 'Exception occurred.', (0, 'Microsoft PowerPoint', 'Presentation.Close : Object does not exist.', '', 0, -2147188720), None)\n",
      "Converting 'Ch 6.pptx' to PDF...\n",
      "'Ch 6.pptx' converted successfully.\n",
      "Error closing presentation 'Ch 6.pptx': (-2147352567, 'Exception occurred.', (0, 'Microsoft PowerPoint', 'Presentation.Close : Object does not exist.', '', 0, -2147188720), None)\n",
      "Converting 'Ch 7.pptx' to PDF...\n",
      "'Ch 7.pptx' converted successfully.\n",
      "Error closing presentation 'Ch 7.pptx': (-2147352567, 'Exception occurred.', (0, 'Microsoft PowerPoint', 'Presentation.Close : Object does not exist.', '', 0, -2147188720), None)\n",
      "Converting 'Ch 8(1).pptx' to PDF...\n",
      "'Ch 8(1).pptx' converted successfully.\n",
      "Error closing presentation 'Ch 8(1).pptx': (-2147352567, 'Exception occurred.', (0, 'Microsoft PowerPoint', 'Presentation.Close : Object does not exist.', '', 0, -2147188720), None)\n",
      "Converting 'Ch 9.pptx' to PDF...\n",
      "'Ch 9.pptx' converted successfully.\n",
      "Error closing presentation 'Ch 9.pptx': (-2147352567, 'Exception occurred.', (0, 'Microsoft PowerPoint', 'Presentation.Close : Object does not exist.', '', 0, -2147188720), None)\n",
      "Error closing PowerPoint: (-2147352567, 'Exception occurred.', (0, 'Microsoft PowerPoint', 'Application.Quit : Failed.', '', 0, -2147467259), None)\n",
      "Exiting the script. Goodbye!\n"
     ]
    }
   ],
   "source": [
    "import os\n",
    "import win32com.client\n",
    "\n",
    "def convert_pptx_to_pdf(folder_path):\n",
    "    if not os.path.exists(folder_path):\n",
    "        print(f\"Error: The folder '{folder_path}' does not exist.\")\n",
    "        return\n",
    "\n",
    "    pptx_files = [f for f in os.listdir(folder_path) if f.lower().endswith('.pptx')]\n",
    "    if not pptx_files:\n",
    "        print(f\"No .pptx files found in the folder '{folder_path}'.\")\n",
    "        return\n",
    "\n",
    "    try:\n",
    "        # Initialize PowerPoint application via win32com.client\n",
    "        powerpoint = win32com.client.Dispatch(\"PowerPoint.Application\")\n",
    "        powerpoint.Visible = True  # Optional, set to False to run in the background\n",
    "    except Exception as e:\n",
    "        print(f\"Failed to initialize PowerPoint: {e}\")\n",
    "        return\n",
    "\n",
    "    for pptx_file in pptx_files:\n",
    "        try:\n",
    "            input_path = os.path.join(folder_path, pptx_file)\n",
    "            output_path = os.path.join(folder_path, os.path.splitext(pptx_file)[0] + \".pdf\")\n",
    "            \n",
    "            print(f\"Converting '{pptx_file}' to PDF...\")\n",
    "\n",
    "            # Open the presentation\n",
    "            presentation = powerpoint.Presentations.Open(input_path)\n",
    "            if presentation is None:\n",
    "                print(f\"Failed to open '{pptx_file}'. Skipping this file.\")\n",
    "                continue\n",
    "\n",
    "            # Save the presentation as PDF\n",
    "            presentation.SaveAs(output_path, 32)  # 32 = ppSaveAsPDF\n",
    "            presentation.Close()\n",
    "\n",
    "            print(f\"'{pptx_file}' converted successfully.\")\n",
    "        except Exception as e:\n",
    "            print(f\"Failed to convert '{pptx_file}': {e}\")\n",
    "            # Ensure the presentation is closed if an error occurs\n",
    "            try:\n",
    "                if 'presentation' in locals() and presentation:\n",
    "                    presentation.Close()\n",
    "            except Exception as close_error:\n",
    "                print(f\"Error closing presentation '{pptx_file}': {close_error}\")\n",
    "        finally:\n",
    "            # Ensure cleanup happens for each presentation\n",
    "            if 'presentation' in locals() and presentation:\n",
    "                try:\n",
    "                    presentation.Close()\n",
    "                except Exception as close_error:\n",
    "                    print(f\"Error closing presentation '{pptx_file}': {close_error}\")\n",
    "\n",
    "    try:\n",
    "        powerpoint.Quit()  # Quit the PowerPoint application\n",
    "        print(\"All files processed. PowerPoint application closed.\")\n",
    "    except Exception as e:\n",
    "        print(f\"Error closing PowerPoint: {e}\")\n",
    "\n",
    "if __name__ == \"__main__\":\n",
    "    while True:\n",
    "        folder_path = input(\"Enter the folder path containing .pptx files (or type 'exit' to quit): \")\n",
    "        if folder_path.lower() == 'exit':\n",
    "            print(\"Exiting the script. Goodbye!\")\n",
    "            break\n",
    "        convert_pptx_to_pdf(folder_path)\n"
   ]
  },
  {
   "cell_type": "code",
   "execution_count": null,
   "metadata": {},
   "outputs": [],
   "source": []
  }
 ],
 "metadata": {
  "kernelspec": {
   "display_name": "Python 3",
   "language": "python",
   "name": "python3"
  },
  "language_info": {
   "codemirror_mode": {
    "name": "ipython",
    "version": 3
   },
   "file_extension": ".py",
   "mimetype": "text/x-python",
   "name": "python",
   "nbconvert_exporter": "python",
   "pygments_lexer": "ipython3",
   "version": "3.13.0"
  }
 },
 "nbformat": 4,
 "nbformat_minor": 2
}
